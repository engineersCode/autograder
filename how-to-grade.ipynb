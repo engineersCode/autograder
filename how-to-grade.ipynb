{
 "cells": [
  {
   "cell_type": "code",
   "execution_count": null,
   "id": "6251ff2a-6707-4b7f-9b7d-3a6e8b4876c7",
   "metadata": {},
   "outputs": [],
   "source": [
    "from gradingFunctions import *"
   ]
  },
  {
   "cell_type": "markdown",
   "id": "699f8003-0699-43c3-baf3-40cb6c2d36ea",
   "metadata": {},
   "source": [
    "# Create a New Course\n",
    "Function used:\n",
    "```Python\n",
    "setupCourse(course_name, bbGradebookPath, temppath=os.path.join(os.getcwd(),'temp'), folder_path=os.getcwd())\n",
    "```\n",
    "\n",
    "This function assumes you are in a file structure that looks like\n",
    "```\n",
    "overhead directory (opath)/\n",
    "    temp/\n",
    "    course_name/\n",
    "        autograded/\n",
    "        feedback/\n",
    "        source/\n",
    "        submitted/\n",
    "        release/\n",
    "    gradebook.db\n",
    "    gradingFunctions.py\n",
    "```\n",
    "The `temp` directory _should_ be the only directoy you interact with.\n",
    "\n",
    "To setup the course run:"
   ]
  },
  {
   "cell_type": "code",
   "execution_count": null,
   "id": "fbb2eb96-be5a-47b8-b8c5-6dcade18669c",
   "metadata": {},
   "outputs": [],
   "source": [
    "name = 'maeTest'\n",
    "\n",
    "setupCourse(name)"
   ]
  },
  {
   "cell_type": "markdown",
   "id": "21255223-056f-48ed-807f-521b6a641573",
   "metadata": {},
   "source": [
    "## Adding a New Student\n",
    "Note: If a student joins the course late, use the function `addStudent()` which takes the argument of the coursename only. It will prompt you to add the students first name, last name, and username (which is used to identify them in `nbgrader`.\n",
    "\n",
    "```python\n",
    "addStudent('maeTest')\n",
    "```\n",
    "the console interaction should look like:\n",
    "```\n",
    "Enter student's first name: John\n",
    "Enter student's last name: Doe\n",
    "Enter student's username: jdoe\n",
    "Student John Doe (jdoe) added successfully!\n",
    "Submission folder created for {jdoe} at {opath/maeTest/submitted/jdoe}'\n",
    "```"
   ]
  },
  {
   "cell_type": "markdown",
   "id": "6e81b442-2f11-41ed-8851-99e85b4a9217",
   "metadata": {},
   "source": [
    "# Create a New Assignment\n",
    "Function used:\n",
    "```Python\n",
    "createAssignment(aname, coursename, opath=os.getcwd())\n",
    "```\n",
    "\n",
    "- `aname` referes to the assignment name. Ex: `engcomp0hw0`. This does not want any notebook extension!\n",
    "- `coursename` referes to the `name` setup during \"Create a New Course\".\n",
    "\n",
    "To actually generate an assignment, you will run the function then place the instructor notebook into the `temp` folder when prompted. The name of the file does not matter, it will be changed to the desired name used in `aname`. \n",
    "\n",
    "> **Note:** If you are making the assignment in the `temp` folder, **delete** the `.ipynb` checkpoints. It will not run if you do not!"
   ]
  },
  {
   "cell_type": "code",
   "execution_count": null,
   "id": "22c2c60f-d7b1-4ffb-961f-6c8f3b59edd5",
   "metadata": {},
   "outputs": [],
   "source": [
    "createAssignment(aname = 'ps1', coursename = 'maeTest')"
   ]
  },
  {
   "cell_type": "markdown",
   "id": "4de705fe-2362-451c-b1ad-594c1987fc0a",
   "metadata": {},
   "source": [
    "# Autograde an Assignment\n",
    "\n",
    "Function used:\n",
    "```Python\n",
    "autogradeAssignment(aname, coursename, opath=os.getcwd())\n",
    "```\n",
    "\n",
    "- `aname` referes to the assignment name. Ex: `engcomp0hw0`. This does not want any notebook extension!\n",
    "- `coursename` referes to the `name` setup during \"Create a New Course\".\n",
    "\n",
    "This is very similar to creating a new assignment however the `temp` folder must have two things:\n",
    "1. Zip file from Blackboard when downloaded.\n",
    "2. Gradebook from Blackboard (expects a `.csv`).\n",
    "\n",
    "You can place them in the `temp` folder right away or wait until prompted. This function will ignore students who have blank submission!"
   ]
  },
  {
   "cell_type": "code",
   "execution_count": null,
   "id": "43bcf89d-42e3-42dd-9e08-1a9350b3b943",
   "metadata": {
    "scrolled": true
   },
   "outputs": [],
   "source": [
    "autogradeAssignment(aname = 'ps1', coursename = 'maeTest')"
   ]
  },
  {
   "cell_type": "markdown",
   "id": "e9104b68-924f-44d3-a74c-6aaf61226cd1",
   "metadata": {},
   "source": [
    "# Autograde a Single Student\n",
    "\n",
    "Function used:\n",
    "```Python\n",
    "autogradeStudent(username, aname, coursename, opath=os.getcwd())\n",
    "```\n",
    "- `username` is the specific user ID that the student used for JupyterHub and is how they are identified in Formgrader.\n",
    "- `aname` referes to the assignment name. Ex: `engcomp0hw0`. This does not want any notebook extension!\n",
    "- `coursename` referes to the `name` setup during \"Create a New Course\".\n",
    "\n",
    "\n",
    "This function can be used for as many students as there were that did not submit. "
   ]
  },
  {
   "cell_type": "code",
   "execution_count": null,
   "id": "67e34df7-67e5-45e5-b69d-739dae52cccd",
   "metadata": {},
   "outputs": [],
   "source": [
    "autogradeStudent(username = 'studentID', aname = 'ps1', coursename = 'maeTest')"
   ]
  }
 ],
 "metadata": {
  "kernelspec": {
   "display_name": "Python 3 (ipykernel)",
   "language": "python",
   "name": "python3"
  },
  "language_info": {
   "codemirror_mode": {
    "name": "ipython",
    "version": 3
   },
   "file_extension": ".py",
   "mimetype": "text/x-python",
   "name": "python",
   "nbconvert_exporter": "python",
   "pygments_lexer": "ipython3",
   "version": "3.13.2"
  }
 },
 "nbformat": 4,
 "nbformat_minor": 5
}
